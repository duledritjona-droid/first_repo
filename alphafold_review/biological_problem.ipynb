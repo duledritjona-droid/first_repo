{
 "cells": [
  {
   "cell_type": "code",
   "execution_count": null,
   "id": "95ed0426-20bb-4971-8f04-7f8dd3bcc136",
   "metadata": {},
   "outputs": [],
   "source": []
  }
 ],
 "metadata": {
  "kernelspec": {
   "display_name": "",
   "name": ""
  },
  "language_info": {
   "name": ""
  }
 },
 "nbformat": 4,
 "nbformat_minor": 5
}
