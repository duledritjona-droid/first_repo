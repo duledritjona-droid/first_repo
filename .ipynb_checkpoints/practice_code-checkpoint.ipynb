{
 "cells": [
  {
   "cell_type": "code",
   "execution_count": null,
   "id": "e7816537-bad5-47c8-b754-2a138a267386",
   "metadata": {},
   "outputs": [],
   "source": [
    "# Practice Code Tutorial\n",
    "\n",
    "In this notebook, we'll explore some basic Python concepts:\n",
    "- Defining variables\n",
    "- Performing calculations (area of a circle)\n",
    "- Updating variable values\n",
    "- Commenting and documenting code\n",
    "\n",
    "Let's start by defining `pi`, `radius`, and calculating the area of a circle.\n",
    "\n",
    "# Define constants and initial values\n",
    "pi = 3.14159   # Approximate value of π\n",
    "radius = 2.2   # Initial radius of the circle\n",
    "\n",
    "# Calculate the area of a circle using the formula A = πr²\n",
    "area = pi * (radius ** 2)\n",
    "\n",
    "# Display the result\n",
    "print(\"Initial area of circle:\", area)"
   ]
  },
  {
   "cell_type": "code",
   "execution_count": null,
   "id": "df4e8933-b713-4e6b-99ef-31b0082d067f",
   "metadata": {},
   "outputs": [],
   "source": [
    "# Updating Variables\n",
    "\n",
    "Variables in Python can be updated at any time.  \n",
    "Here, we increase the radius by 1. Notice that the area does **not** automatically update until we recalculate it.\n",
    "\n",
    "# Increase the radius\n",
    "radius = radius + 1\n",
    "\n",
    "# Print the old area (not updated yet)\n",
    "print(\"Area before recalculation:\", area)\n",
    "\n",
    "# Recalculate with the new radius\n",
    "area = pi * (radius ** 2)\n",
    "print(\"Updated area of circle:\", area)"
   ]
  },
  {
   "cell_type": "code",
   "execution_count": null,
   "id": "5a708665-d3d4-45d1-8724-a91efa57e6c6",
   "metadata": {},
   "outputs": [],
   "source": [
    "# Commenting in Python\n",
    "\n",
    "Comments help explain code to humans (and your future self!).  \n",
    "Use `#` to add comments to a single line.  \n",
    "In Jupyter, you can also comment/uncomment multiple lines with **Ctrl + /** (Cmd + / on Mac).\n",
    "\n",
    "# Example of commented-out code\n",
    "# area = pi * (radius ** 2)\n",
    "# print(area)\n",
    "\n",
    "# radius = radius + 1\n",
    "# area = pi * (radius ** 2)\n",
    "# print(area)\n",
    "\n",
    "# Uncomment (Ctrl + /) and run to see what happens!\n",
    "\n",
    "                                                                             "
   ]
  },
  {
   "cell_type": "code",
   "execution_count": null,
   "id": "f7a12694-3b86-4c0e-84da-0adda356f89a",
   "metadata": {},
   "outputs": [],
   "source": [
    "# Autocomplete & Variable Names\n",
    "\n",
    "Most IDEs (like Jupyter or Spyder) provide **autocomplete**.  \n",
    "When you start typing a variable, press **Tab** to complete it.\n",
    "\n",
    "Here we define a long variable name for demonstration.\n",
    "\n",
    "# Define a variable with a long name\n",
    "a_very_long_variable_name_dont_name_them_this_long_pls = 0\n",
    "\n",
    "# Change its value\n",
    "a_very_long_variable_name_dont_name_them_this_long_pls = 1\n",
    "\n",
    "# Print its value\n",
    "print(\"Value of the long variable:\", a_very_long_variable_name_dont_name_them_this_long_pls)\n"
   ]
  }
 ],
 "metadata": {
  "kernelspec": {
   "display_name": "Python [conda env:base] *",
   "language": "python",
   "name": "conda-base-py"
  },
  "language_info": {
   "codemirror_mode": {
    "name": "ipython",
    "version": 3
   },
   "file_extension": ".py",
   "mimetype": "text/x-python",
   "name": "python",
   "nbconvert_exporter": "python",
   "pygments_lexer": "ipython3",
   "version": "3.12.7"
  }
 },
 "nbformat": 4,
 "nbformat_minor": 5
}
